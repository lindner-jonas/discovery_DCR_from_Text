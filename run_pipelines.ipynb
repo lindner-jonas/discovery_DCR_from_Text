{
 "cells": [
  {
   "cell_type": "code",
   "execution_count": null,
   "id": "ae56870a",
   "metadata": {},
   "outputs": [],
   "source": [
    "import os\n",
    "\n",
    "basic_concepts = './0_In-context_Learning/DCR_concepts.txt'\n",
    "annotation_guidelines = './0_In-context_Learning/Annotation_Guidelines_DCR_Laws.pdf'\n",
    "process_description_path = './1_Process_Descriptions'\n",
    "result_xml_path = './4_Generated_XML'\n",
    "models = [\"llama3.2\"]#,\"llama3.1\"]\n",
    "loop_limit = 10\n",
    "#llm_url = \"server address\"\n",
    "llm_url =  \"http://localhost:11434\" # default in Ollama"
   ]
  },
  {
   "cell_type": "markdown",
   "id": "0b326a2c",
   "metadata": {},
   "source": [
    "# Functions that Run Pipelines"
   ]
  },
  {
   "cell_type": "code",
   "execution_count": 10,
   "id": "b870ad55",
   "metadata": {},
   "outputs": [],
   "source": [
    "from pathlib import Path\n",
    "\n",
    "def doesExist(pipeline,prompt_name,process_name,large_language_model):\n",
    "    folder = Path(result_xml_path) / large_language_model / pipeline / prompt_name\n",
    "    if os.path.isdir(folder) == True:\n",
    "        for file in os.listdir(folder):\n",
    "            name = file.split(f\"_{large_language_model}_\")\n",
    "            if name[0] == process_name:\n",
    "                return True\n",
    "    return False\n"
   ]
  },
  {
   "cell_type": "code",
   "execution_count": 11,
   "id": "b69d9d19",
   "metadata": {},
   "outputs": [],
   "source": [
    "def runPipelineA1(process_name,llm):\n",
    "    pipeline_path = './3_Pipelines/Pipeline_A1_Role_Activity_allRule'\n",
    "    for prompt in os.listdir(pipeline_path):\n",
    "        if prompt == \"Pipeline_A1_Prompt_1.ipynb\":\n",
    "            global prompt_name \n",
    "            print(prompt, flush=True)\n",
    "            prompt_name = prompt.replace(\".ipynb\", \"\")\n",
    "            notebook_path = os.path.join(pipeline_path, prompt)\n",
    "            if doesExist(\"Pipeline_A1\", prompt_name, process_name, llm) == False:\n",
    "                get_ipython().run_line_magic('run', notebook_path)\n",
    "\n",
    "            \n",
    "def runPipelineA2(process_name,llm):\n",
    "    pipeline_path = './3_Pipelines/Pipeline_A2_Role_Activity_eachRule'\n",
    "    for prompt in os.listdir(pipeline_path):\n",
    "        if prompt == \"Pipeline_A2_Prompt_1.ipynb\":\n",
    "            global prompt_name \n",
    "            print(prompt)\n",
    "            prompt_name = prompt.replace(\".ipynb\", \"\")\n",
    "            notebook_path = os.path.join(pipeline_path, prompt)\n",
    "            get_ipython().run_line_magic('run', notebook_path)\n",
    "            if doesExist(\"Pipeline_A2\", prompt_name, process_name, llm) == False:\n",
    "                get_ipython().run_line_magic('run', notebook_path)"
   ]
  },
  {
   "cell_type": "markdown",
   "id": "fafc3a86",
   "metadata": {},
   "source": [
    "# Run all Pipelines for each LLM"
   ]
  },
  {
   "cell_type": "code",
   "execution_count": null,
   "id": "7e6fc12c",
   "metadata": {},
   "outputs": [],
   "source": [
    "for model in models:\n",
    "    print(model)\n",
    "    for filename in os.listdir(process_description_path):\n",
    "        file_path = os.path.join(process_description_path, filename)\n",
    "        if os.path.isfile(file_path):\n",
    "            with open(file_path, 'r', encoding='utf-8') as file:\n",
    "                process_text = file.read()\n",
    "                if process_text != \"\":\n",
    "                    large_language_model = model\n",
    "                    process_name = filename.replace(\".txt\", \"\")\n",
    "                    runPipelineA1(process_name,model)\n",
    "                    #runPipelineA2(process_name,model)\n",
    "                    #runPipelineB1()\n",
    "                    #runPipelineB2()"
   ]
  }
 ],
 "metadata": {
  "kernelspec": {
   "display_name": "TEST",
   "language": "python",
   "name": "python3"
  },
  "language_info": {
   "codemirror_mode": {
    "name": "ipython",
    "version": 3
   },
   "file_extension": ".py",
   "mimetype": "text/x-python",
   "name": "python",
   "nbconvert_exporter": "python",
   "pygments_lexer": "ipython3",
   "version": "3.13.2"
  }
 },
 "nbformat": 4,
 "nbformat_minor": 5
}
