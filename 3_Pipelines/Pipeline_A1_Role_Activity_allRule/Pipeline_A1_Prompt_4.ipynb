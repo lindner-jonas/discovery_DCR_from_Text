{
 "cells": [
  {
   "cell_type": "code",
   "execution_count": null,
   "id": "f471014f",
   "metadata": {},
   "outputs": [],
   "source": [
    "from haystack import Pipeline\n",
    "from haystack.components.builders.prompt_builder import PromptBuilder\n",
    "from haystack.components.retrievers.in_memory import InMemoryBM25Retriever\n",
    "from haystack_integrations.components.generators.ollama import OllamaGenerator\n",
    "from haystack.components.converters import TextFileToDocument\n",
    "from haystack.components.converters import PyPDFToDocument\n",
    "from haystack.document_stores.in_memory import InMemoryDocumentStore\n",
    "from pathlib import Path\n",
    "\n",
    "converterText = TextFileToDocument()\n",
    "converterPDF = PyPDFToDocument()"
   ]
  },
  {
   "cell_type": "markdown",
   "id": "8e835875",
   "metadata": {},
   "source": [
    "# Meta Parameters"
   ]
  },
  {
   "cell_type": "code",
   "execution_count": null,
   "id": "6618412b",
   "metadata": {},
   "outputs": [],
   "source": [
    "if not 'basic_concepts' in locals():\n",
    "    basic_concepts = \"\"\n",
    "\n",
    "if not 'process_text' in locals():\n",
    "    process_text = \"\"\n",
    "\n",
    "if not 'process_name' in locals():\n",
    "    process_name = \"\"\n",
    "\n",
    "if not 'large_language_model' in locals():\n",
    "    large_language_model = \"\"\n",
    "\n",
    "if not 'prompt_name' in locals():\n",
    "    prompt_name = \"\"\n",
    "\n",
    "if not 'loop_limit' in locals():\n",
    "    loop_limit = \"20\"\n",
    "\n",
    "if not 'llm_url' in locals():\n",
    "    llm_url = \"http://localhost:11434\"\n",
    "\n",
    "# print(\"process_name:\", process_name)\n",
    "# print(\"process description: \", process_text)\n",
    "# print(\"llm:\" , large_language_model)\n",
    "# print(\"prompt_name:\", prompt_name)"
   ]
  },
  {
   "cell_type": "markdown",
   "id": "5220aa56",
   "metadata": {},
   "source": [
    "# DCR - in-context learning / RGA"
   ]
  },
  {
   "cell_type": "code",
   "execution_count": null,
   "id": "08ddf05f",
   "metadata": {},
   "outputs": [],
   "source": [
    "basicDCR = converterText.run(sources=[Path(basic_concepts)])\n",
    "\n",
    "document_store = InMemoryDocumentStore()\n",
    "document_store.write_documents(basicDCR['documents'])"
   ]
  },
  {
   "cell_type": "markdown",
   "id": "96401de8",
   "metadata": {},
   "source": [
    "# Prompt for Roles"
   ]
  },
  {
   "cell_type": "code",
   "execution_count": null,
   "id": "c41c6c81",
   "metadata": {},
   "outputs": [],
   "source": [
    "#Context\n",
    "prompt_Role = \"\"\"\n",
    "[Context]\n",
    "Imaging you are an expert in Business Process Management with extensive knowledge about declarative process modelling. Additionally, you have specific knowledge about the modelling technique \"DCR\" (Dynamic Condition Response), that you extend with information from the following documents:\n",
    "{% for doc in documents %}\n",
    "    {{ doc.content }}\n",
    "{% endfor %}\n",
    "I am going to feed you a textual description of some sort of Business Process. It could be a process in a company or organization. \n",
    "\"\"\"\n",
    "\n",
    "#Task\n",
    "prompt_Role = prompt_Role + \"\"\"\n",
    "{{ task }}\n",
    "\"\"\"\n",
    "task = \"\"\"\n",
    "Your task is to find all roles or actors for a DCR graph in the process description I will provide you with.\n",
    "\"\"\"\n",
    "\n",
    "# Output / Format\n",
    "prompt_Role = prompt_Role + \"\"\"\n",
    "Return the roles in an array in JSON format, similar to: {\"roles\": [...,...,...]}. Do not forget the delimiter \",\" between the identified roles. Do not use any other delimiter. Do not add any other information to your answer. Do not include duplicate roles. Do not repeat the task description in your answer. Do neither describe nor explain your answer. \n",
    "\"\"\"\n",
    "\n",
    "# Process Description\n",
    "prompt_Role = prompt_Role + \"\"\"\n",
    "The process description in question is:\n",
    "{{ process }}\n",
    "\"\"\""
   ]
  },
  {
   "cell_type": "markdown",
   "id": "eefd6d40",
   "metadata": {},
   "source": [
    "## Examples"
   ]
  },
  {
   "cell_type": "code",
   "execution_count": null,
   "id": "6c82907a",
   "metadata": {},
   "outputs": [],
   "source": [
    "prompt_Role = prompt_Role + \"\"\"\n",
    "\n",
    "Consider the following as correct examples: \n",
    "First Example Description: \"The process starts when the storage facility used by Puori sends a product sample to Ellipse. Ellipse then notifies Puori of the new sample. Before testing can begin, Puori then request a test of a sample through Ellipse. Ellipse must then test the product, as well as have additional testing done through Eurofarms.\"\n",
    "Correctly identified roles: {\"roles\": [\"Storage Facility\", \"Ellipse\", \"Puori\"]}\n",
    "\n",
    "Second Example Description: \"When an employee creates an expense report the money must be paid out within one week. After creating the expense report a manager should approve the expense report. If a manager approves the  expense report the money can be paid out by finance. If the case is awaiting manager approval payout cannot happen.\"\n",
    "Correctly identified roles: {\"roles\": [\"Employee\", \"Manager\", \"Finance\"]}\n",
    "\n",
    "Consider the following as a wrong examples: \n",
    "Third Example Description: \"The referee starts a new case regarding a certain doctor by interviewing patients.  Since a patient interview workflow is already  established, it is simply integrated in the new  workflow. Meanwhile, the director asks an external expert to review the work of the doctor under rating.\"\n",
    "Wrongly identified roles: {\"roles\": [\"Doctor\", \"Patient\", \"External Expert\"]}\n",
    "Why are they wrong?: receiving parties are not considered as roles; roles identified that should not be a role.\n",
    "\"\"\""
   ]
  },
  {
   "cell_type": "markdown",
   "id": "67eb73e6",
   "metadata": {},
   "source": [
    "## Combine Role Pipeline"
   ]
  },
  {
   "cell_type": "code",
   "execution_count": null,
   "id": "411e0b78",
   "metadata": {},
   "outputs": [],
   "source": [
    "retriever = InMemoryBM25Retriever(document_store=document_store)\n",
    "prompt_builder = PromptBuilder(template=prompt_Role)\n",
    "llm = OllamaGenerator(model=large_language_model, url=llm_url, timeout=1200)\n",
    "\n",
    "role_pipeline = Pipeline()\n",
    "role_pipeline.add_component(\"retriever\", retriever)\n",
    "role_pipeline.add_component(\"prompt_builder\", prompt_builder)\n",
    "role_pipeline.add_component(\"llm\", llm)\n",
    "role_pipeline.connect(\"retriever\", \"prompt_builder.documents\")\n",
    "role_pipeline.connect(\"prompt_builder\", \"llm\")"
   ]
  },
  {
   "cell_type": "markdown",
   "id": "4ce3e5fb",
   "metadata": {},
   "source": [
    "# Prompt for Activities"
   ]
  },
  {
   "cell_type": "code",
   "execution_count": null,
   "id": "3de90867",
   "metadata": {},
   "outputs": [],
   "source": [
    "#Context\n",
    "prompt_Activity = \"\"\"\n",
    "Imaging you are an expert in Business Process Management with extensive knowledge about declarative process modelling. Additionally, you have specific knowledge about the modelling technique \"DCR\" (Dynamic Condition Response), that you extend with information from the following documents:\n",
    "{% for doc in documents %}\n",
    "    {{ doc.content }}\n",
    "{% endfor %}\n",
    "I am going to feed you a textual description of some sort of Business Process. It could be a process in a company or organization. \n",
    "\"\"\"\n",
    "\n",
    "#Task\n",
    "prompt_Activity = prompt_Activity + \"\"\"\n",
    "Your task is to find all activities or events for a DCR graph in the process description I will provide you with and map them to the following roles: {{ roles }}.\n",
    "\"\"\"\n",
    "\n",
    "# Output / Format\n",
    "prompt_Activity = prompt_Activity + \"\"\"\n",
    "Return the activitites as keys in key-value-pairs in JSON format, with their associated role as value, which should look like this: { {\"activity\": ..., \"role\": ...}, ...}. Do not forget the delimiter \",\" between the identified activities. Do not use any other delimiter. Do not alter the text. Do not add any other information to your answer. Do not include duplicate activities. Do not repeat the task description in your answer. Do neither describe nor explain your answer. \n",
    "\"\"\"\n",
    "\n",
    "# Process Description\n",
    "prompt_Activity = prompt_Activity + \"\"\"\n",
    "The process description in question is:\n",
    "{{ process }}\n",
    "\"\"\""
   ]
  },
  {
   "cell_type": "markdown",
   "id": "b8ee8e97",
   "metadata": {},
   "source": [
    "## Examples"
   ]
  },
  {
   "cell_type": "code",
   "execution_count": null,
   "id": "f584e1f9",
   "metadata": {},
   "outputs": [],
   "source": [
    "prompt_Activity = prompt_Activity + \"\"\"\n",
    "\n",
    "Consider the following as correct examples: \n",
    "First Example Description: \"Two weeks before the renting period is done, management needs to contact the seller to announce that the renting period is almost complete and ask the seller if they want an extension. However, it is also possible for sellers to contact management which then would not require management to contact them. If they do not want to extend, they will move out. If they would like an extension, management needs to check their revenue.\"\n",
    "Correctly identified activities: [{\"activity\": \"contact the seller to announce that the renting period is almost complete\",\"role\": \"Management\"},{\"activity\": \"ask the seller if they want an extension\",\"role\": \"Management\"},{\"activity\": \"contact management\",\"role\": \"Seller\"},{\"activity\": \"do not want to extend\",\"role\": \"Seller\"},{\"activity\": \"move out\",\"role\": \"Seller\"},{\"activity\": \"like an extension\",\"role\": \"Seller\"},{\"activity\": \"check their revenue\",\"role\": \"Management\"}]\n",
    "\n",
    "Second Example Description: \"A customer brings in a defective computer and the CRS checks the defect and hands out a repair cost calculation back. If the customer decides that the costs are acceptable, the process continues, otherwise she  takes her computer home unrepaired. The ongoing repair consists of two activities, which are executed, in an arbitrary order. The first activity is to check and repair the hardware, whereas the second activity checks and  configures the software.\"\n",
    "Correctly dentified activities: [{\"activity\": \"brings in a defective computer\",\"role\": \"Customer\"},{\"activity\": \"checks the defect\",\"role\": \"CRS\"},{\"activity\": \"hands out a repair cost calculation back\",\"role\": \"CRS\"},{\"activity\": \"decides that the costs are acceptable\",\"role\": \"Customer\"},{\"activity\": \"the process continues\",\"role\": \"none\"},{\"activity\": \"takes her computer home unrepaired\",\"role\": \"Customer\"},{\"activity\": \"check the hardware\",\"role\": \"CRS\"},{\"activity\": \"repair the hardware\",\"role\": \"CRS\"},{\"activity\": \"checks the software\",\"role\": \"CRS\"},{\"activity\": \"configures the software\",\"role\": \"CRS\"}]\n",
    "\n",
    "Consider the following as a wrong examples: \n",
    "Third Example Description: \"If the seller does not confirm the shelf, the employee will pick another potential seller. After the confirmation the seller must decide their renting period which should be at least 14 weeks. Afterwards the seller needs to decide whether they pay over the phone or at the shop which requires an employee to take payment or to pay through the website which  automatically will take the payment.\"\n",
    "Wrongly identified activities: [{\"activity\": \"is picked by employee\",\"role\": \"Seller\"},{\"activity\": \"should be at least 14 weeks\",\"role\": \"Renting Period\"},{\"activity\": \"needs to decide\",\"role\": \"Seller\"}{\"activity\": \"pay over the phone or at the shop\", \"role\": \"Seller\"}{\"activity\": \"take payment or pay through the website\",\"role\": \"employee\"}]\n",
    "Why are they wrong?: activities have been cut off and split; activities have been combined; activities are wrongfully assigned to roles; activities are identified that should not be considered as activities\n",
    "\"\"\""
   ]
  },
  {
   "cell_type": "markdown",
   "id": "7a5a3432",
   "metadata": {},
   "source": [
    "## Combine Activity Pipeline"
   ]
  },
  {
   "cell_type": "code",
   "execution_count": null,
   "id": "db72ee36",
   "metadata": {},
   "outputs": [],
   "source": [
    "retriever_Activity = InMemoryBM25Retriever(document_store=document_store)\n",
    "prompt_builder_Activity = PromptBuilder(template=prompt_Activity)\n",
    "llm2 = OllamaGenerator(model=large_language_model, url=llm_url, timeout=1200)\n",
    "\n",
    "activity_pipeline = Pipeline()\n",
    "activity_pipeline.add_component(\"retriever_Activity\", retriever_Activity)\n",
    "activity_pipeline.add_component(\"prompt_builder_Activity\", prompt_builder_Activity)\n",
    "activity_pipeline.add_component(\"llm2\", llm2)\n",
    "activity_pipeline.connect(\"retriever_Activity\", \"prompt_builder_Activity.documents\")\n",
    "activity_pipeline.connect(\"prompt_builder_Activity\", \"llm2\")"
   ]
  },
  {
   "cell_type": "markdown",
   "id": "ed35fba5",
   "metadata": {},
   "source": [
    "# Prompt for Rules"
   ]
  },
  {
   "cell_type": "code",
   "execution_count": null,
   "id": "f2abb74d",
   "metadata": {},
   "outputs": [],
   "source": [
    "#Context\n",
    "prompt_Rules = \"\"\"\n",
    "Imaging you are an expert in Business Process Management with extensive knowledge about declarative process modelling. Additionally, you have specific knowledge about the modelling technique \"DCR\" (Dynamic Condition Response), that you extend with information from the following documents:\n",
    "{% for doc in documents %}\n",
    "    {{ doc.content }}\n",
    "{% endfor %}\n",
    "I am going to feed you a textual description of some sort of Business Process. It could be a process in a company or organization. \n",
    "\"\"\"\n",
    "\n",
    "#Task\n",
    "prompt_Rules = prompt_Rules + \"\"\"\n",
    "Your task is to find and define all constraints between the activities for a DCR graph in the process description I will provide you with, based on the already identified activities: {{ activities }}.\n",
    "A constraint must be in accordance with DCR a Condition, Response, Exclude, Include or Milestone, and its associated activities are a source activity and a target activity.\n",
    "\"\"\"\n",
    "\n",
    "# Output / Format\n",
    "prompt_Rules = prompt_Rules + \"\"\"\n",
    "Return the DCR constraints as keys in key-value-pairs in JSON format, which should look like this: { {\"constraint\": ..., \"source activity: ..., \"target activity\": ...}, ...}. The constraint should be one of the constraint types of DCR and the activities its associated source and target activity. Do not forget the delimiter \",\" between the identified constraints. Do not use any other delimiter. Do not alter the text. Do not add any other information to your answer. Do not include duplicate constraints. Do not include the roles of the activities in the output. Do not repeat the task description in your answer. Do neither describe nor explain your answer. \n",
    "\"\"\"\n",
    "\n",
    "# Process Description\n",
    "prompt_Rules = prompt_Rules + \"\"\"\n",
    "The process description in question is:\n",
    "{{ process }}\n",
    "\"\"\""
   ]
  },
  {
   "cell_type": "markdown",
   "id": "f0de711e",
   "metadata": {},
   "source": [
    "## Examples"
   ]
  },
  {
   "cell_type": "code",
   "execution_count": null,
   "id": "6cce91b3",
   "metadata": {},
   "outputs": [],
   "source": [
    "prompt_Rules = prompt_Rules + \"\"\"\n",
    "\n",
    "Consider the following examples. The first two for each constraint type are correct examples, the third one is a wrong example for the respective constraint type:\n",
    "\n",
    "First Example for Condition: \"Once they have completed everything, they can get the bike from the shop and the contract will be started.\"\n",
    "Correctly identified Constraint: [{\"constraint\": \"Condition\", \"source activity\": \"have completed everything\", \"target activity\": \"get the bike from the shop\"},{\"constraint\": \"Condition\", \"source activity\": \"have completed everything\", \"target activity\": \"the contract will be started\"}]\n",
    "\n",
    "Second Example for Condition: \"Afterwards the GRM must request more information from the potential retailer. The retailer can only provide the requested information after the request has been made.\"\n",
    "Correctly identified Constraint: {\"constraint\": \"Condition\", \"source activity\": \"request more information from the potential retailer\", \"target activity\": \"provide the requested information\"}\n",
    "\n",
    "Third Example for Condition: \"The GRM receives a request to become retailer. Afterwards the GRM must request more information from the potential retailer.\"\n",
    "Wrongly identified Constraint: {\"constraint\": \"Condition\", \"source activity\": \"receives a request to become retailer\", \"target activity\": \"request more information from the potential retailer\"}\n",
    "Why is it wrong?: The sentences state an obligation for the target activity, but not a conditional permission given by performing the source activity.\n",
    "\n",
    "First Example for Response: \"If they do not want to extend, they will move out.\"\n",
    "Correctly identified Constraint: {\"constraint\": \"Response\", \"source activity\": \"do not want to extend\", \"target activity\": \"move out\"}\n",
    "\n",
    "Second Example for Response: \"If no bikes are available, Swapfiets online customer service will notify the customer, and the service will not be supported.\"\n",
    "Correctly identified Constraint: [{\"constraint\": \"Response\", \"source activity\": \"no bikes are available\", \"target activity\": \"notify the customer\"},{\"constraint\": \"Response\", \"source activity\": \"no bikes are available\", \"target activity\": \"the service is not supported\"}]\n",
    "\n",
    "Third Example for Response: \"If the revenue is equal or above 700 DKK a week then they can extend the renting period.\"\n",
    "Wrongly identified Constraint: {\"constraint\": \"Response\", \"source activity\": \"is equal or above 700 DKK a week\", \"target activity\": \"extend the renting period\"}\n",
    "Why is it wrong?: The sentence states a conditional permission for the target activity, but not an obligation.\n",
    "\n",
    "First Example for Include: \"A customer must browse for products prior to adding a product to the basket, but they can access the basket upon entering the webshop without any prior conditions. In order to proceed to check-out at least one product must be in the basket.\"\n",
    "Correctly identified Constraint: {\"constraint\": \"Include\", \"source activity\": \"adding a product to the basket\", \"target activity\": \"proceed to check-out\"}\n",
    "\n",
    "Second Example for Include: \"Only once the contract has been created the Head of Development can send the contract.\"\n",
    "Correctly identified Constraint: {\"constraint\": \"Include\", \"source activity\": \"create the contract\", \"target activity\": \"send the contract\"}\n",
    "\n",
    "Third Example for Include: \"If a manager approves the expense report the money can be paid out by finance.\"\n",
    "Wrongly identified Constraint: {\"constraint\": \"Include\", \"source activity\": \"approves the expense report\", \"target activity\": \"pay out the money\"}\n",
    "Why is it wrong?: The sentence does not state a strict consequence that would otherwise declare the target activity to be excluded from the process.\n",
    "\n",
    "First Example for Exclude: \"Two weeks before the renting period is done, management needs to contact the seller to announce that the renting period is almost complete and ask the seller if they want an extension. However, it is also possible for sellers to contact management which then would not require management to contact them.\"\n",
    "Correctly identified Constraint: {\"constraint\": \"Exclude\", \"source activity\": \"contact management\", \"target activity\": \"contact the seller to announce that the renting period is almost complete\"}\n",
    "\n",
    "Second Example for Exclude: \"If an error is detected another arbitrary repair activity is executed, otherwise the repair is finished.\"\n",
    "Correctly identified Constraint: [{\"constraint\": \"Exclude\", \"source activity\": \"execute another arbitrary repair activity\", \"target activity\": \"the repair is finished\"},{\"constraint\": \"Exclude\", \"source activity\": \"the repair is finished\", \"target activity\": \"execute another arbitrary repair activity\"}]\n",
    "\n",
    "Third Example for Exclude: \"If errors are found, Clean Label must correct the errors before publishing the results again.\"\n",
    "Wrongly identified Constraint: {\"constraint\": \"Exclude\", \"source activity\": \"errors are found\", \"target activity\": \"publishing the results again\"}\n",
    "Why is it wrong?: The sentence does not strictly state whether the target activity is excluded from the process if the source activity is performed.\n",
    "\n",
    "First Example for Milestone: \"After the design is approved by the product owner, Marketing may send the design to test groups for feedback. After the design is approved, if the design is not sent to test groups, Marketing must send the design to P&R.\"\n",
    "Correctly identified Constraint: {\"constraint\": \"Milestone\", \"source activity\": \"approve the design\", \"target activity\": \"send the design to P&R\"}\n",
    "\n",
    "Second Example for Milestone: If the case is awaiting manager approval payout cannot happen. If the manager rejects the expense report he must later approve the expense report in order to payout to happen.\n",
    "Correctly identified Constraint: {\"constraint\": \"Milestone\", \"source activity\": \"approve the expense report\", \"target activity\": \"publishing the results again\"}\n",
    "\n",
    "Third Example for Milestone: \"If errors are found, Clean Label must correct the errors before publishing the results again.\"\n",
    "Wrongly identified Constraint: {\"constraint\": \"Milestone\", \"source activity\": \"correct the errors\", \"target activity\": \"publishing the results again\"}\n",
    "Why is it wrong?: The sentence does not invoke any conditions on the source activity and, thus, it cannot be a milestone for the target activity.\n",
    "\"\"\""
   ]
  },
  {
   "cell_type": "markdown",
   "id": "8fd569f3",
   "metadata": {},
   "source": [
    "### Combine Rule Pipeline"
   ]
  },
  {
   "cell_type": "code",
   "execution_count": null,
   "id": "5c25c688",
   "metadata": {},
   "outputs": [],
   "source": [
    "retriever_Rules = InMemoryBM25Retriever(document_store=document_store)\n",
    "prompt_builder_Rules = PromptBuilder(template=prompt_Rules)\n",
    "llm3 = OllamaGenerator(model=large_language_model, url=llm_url, timeout=1200)\n",
    "\n",
    "rule_pipeline = Pipeline()\n",
    "rule_pipeline.add_component(\"retriever_Rules\", retriever_Rules)\n",
    "rule_pipeline.add_component(\"prompt_builder_Rules\", prompt_builder_Rules)\n",
    "rule_pipeline.add_component(\"llm3\", llm3)\n",
    "rule_pipeline.connect(\"retriever_Rules\", \"prompt_builder_Rules.documents\")\n",
    "rule_pipeline.connect(\"prompt_builder_Rules\", \"llm3\")"
   ]
  },
  {
   "cell_type": "markdown",
   "id": "84c818aa",
   "metadata": {},
   "source": [
    "# Graph Generation"
   ]
  },
  {
   "cell_type": "code",
   "execution_count": null,
   "id": "e7468d01",
   "metadata": {},
   "outputs": [],
   "source": [
    "import json\n",
    "import xml.etree.ElementTree as ET \n",
    "import uuid\n",
    "from pathlib import Path\n",
    "from datetime import datetime"
   ]
  },
  {
   "cell_type": "markdown",
   "id": "b8c9e402",
   "metadata": {},
   "source": [
    "## Run Prompt Pipeline"
   ]
  },
  {
   "cell_type": "code",
   "execution_count": null,
   "id": "c5311ee9",
   "metadata": {},
   "outputs": [],
   "source": [
    "def runPromptPipeline(): \n",
    "    start_time_role = datetime.now()\n",
    "    response_Roles = role_pipeline.run(\n",
    "        {\n",
    "            \"retriever\": {\"query\": prompt_Role},\n",
    "            \"prompt_builder\": {\"task\": task, \"process\": process_text},\n",
    "        }\n",
    "    )\n",
    "    processing_time_role = datetime.now() - start_time_role\n",
    "    processing_duration_role = processing_time_role.total_seconds()\n",
    "    input_tokens_Role = response_Roles[\"llm\"][\"meta\"][0][\"prompt_eval_count\"]\n",
    "    output_tokens_Role = response_Roles[\"llm\"][\"meta\"][0][\"eval_count\"]\n",
    "    cleaned_roles = ''.join(response_Roles[\"llm\"][\"replies\"])\n",
    "    cleaned_roles = cleaned_roles.replace(\"'\", '').replace(\"{\", '').replace(\"}\", '').replace(\"[\", '').replace(\"]\", '').replace(\":\", '').replace(\"\\\"roles\\\"\", '').replace(\"\\n\",'').replace(\" \", '').replace(\"\\\",\\\"\",'\\\", \\\"').replace(\"\\\\\",'')\n",
    "\n",
    "    start_time_activity = datetime.now()\n",
    "    response_Activities = activity_pipeline.run(\n",
    "        {\n",
    "            \"retriever_Activity\": {\"query\": prompt_Activity},\n",
    "            \"prompt_builder_Activity\": {\"process\": process_text, \"roles\": cleaned_roles},\n",
    "        }\n",
    "    )\n",
    "    processing_time_activity = datetime.now() - start_time_activity\n",
    "    processing_duration_activity = processing_time_activity.total_seconds()\n",
    "    input_tokens_Activity = response_Activities[\"llm2\"][\"meta\"][0][\"prompt_eval_count\"]\n",
    "    output_tokens_Activity = response_Activities[\"llm2\"][\"meta\"][0][\"eval_count\"]\n",
    "    cleaned_activities = ''.join(response_Activities[\"llm2\"][\"replies\"])\n",
    "    cleaned_activities = cleaned_activities.replace(\"'\", '').replace(\"[\", '').replace(\"]\", '').replace(\"\\\"roles\\\"\", '').replace(\"\\n\",'').replace(\"\\\",\\\"\",'\\\", \\\"').replace(\"\\\\\",'').replace('}{\"activity','},{\"activity').replace('} {\"activity','},{\"activity')\n",
    "\n",
    "    start_time_rule = datetime.now()\n",
    "    response_Rules = rule_pipeline.run(\n",
    "        {\n",
    "            \"retriever_Rules\": {\"query\": prompt_Rules},\n",
    "            \"prompt_builder_Rules\": {\"process\": process_text, \"activities\": cleaned_activities},\n",
    "        }\n",
    "    )\n",
    "    processing_time_rule = datetime.now() - start_time_rule\n",
    "    processing_duration_rule = processing_time_rule.total_seconds()\n",
    "    input_tokens_Rule = response_Rules[\"llm3\"][\"meta\"][0][\"prompt_eval_count\"]\n",
    "    output_tokens_Rule = response_Rules[\"llm3\"][\"meta\"][0][\"eval_count\"]\n",
    "    cleaned_rules = ''.join(response_Rules[\"llm3\"][\"replies\"])\n",
    "    cleaned_rules = cleaned_rules.replace(\"'\", '').replace(\"[\", '').replace(\"]\", '').replace(\"\\n\",'').replace(\"  \",'').replace(\"\\\",\\\"\",'\\\", \\\"').replace(\"\\\\\",'').replace('}{\"constraint','},{\"constraint').replace('} {\"constraint','},{\"constraint')\n",
    "\n",
    "    return cleaned_roles, processing_duration_role, input_tokens_Role, output_tokens_Role, cleaned_activities, processing_duration_activity, input_tokens_Activity, output_tokens_Activity, cleaned_rules, processing_duration_rule, input_tokens_Rule, output_tokens_Rule\n"
   ]
  },
  {
   "cell_type": "markdown",
   "id": "9e768dbe",
   "metadata": {},
   "source": [
    "## Create JSON from Output"
   ]
  },
  {
   "cell_type": "code",
   "execution_count": null,
   "id": "f2050135",
   "metadata": {},
   "outputs": [],
   "source": [
    "def generateJSON(roles,activities,rules):\n",
    "    rolesString = '\"roles\": [' + roles + ']'\n",
    "    activitiesString = '\"activities\": [' + activities + ']'\n",
    "    rulesString = '\"constraints\": [' + rules + ']'\n",
    "    graphString = '{\"DCRgraph\": {' + rolesString + ', ' + activitiesString + ', ' + rulesString + '} }'\n",
    "    \n",
    "    # print(rolesString)\n",
    "    # print(activitiesString)\n",
    "    # print(rulesString)\n",
    "    # print(graphString)\n",
    "\n",
    "    graphJSON = json.loads(graphString)\n",
    "\n",
    "    return graphJSON"
   ]
  },
  {
   "cell_type": "markdown",
   "id": "c0704d28",
   "metadata": {},
   "source": [
    "## Generate DCR Editor XML"
   ]
  },
  {
   "cell_type": "code",
   "execution_count": null,
   "id": "e5cf5fc6",
   "metadata": {},
   "outputs": [],
   "source": [
    "### the code for json_to_xml() was mostly generated using GPT-4o mini\n",
    "def json_to_xml(json_obj):\n",
    "    # Create the root element\n",
    "    definitions = ET.Element(\"dcr:definitions\", {\n",
    "        \"xmlns:dcr\": \"http://tk/schema/dcr\",\n",
    "        \"xmlns:dcrDi\": \"http://tk/schema/dcrDi\",\n",
    "        \"xmlns:dc\": \"http://www.omg.org/spec/DD/20100524/DC\"\n",
    "    })\n",
    "\n",
    "    # Create dcrGraph element\n",
    "    dcr_graph = ET.SubElement(definitions, \"dcr:dcrGraph\", id=\"dcrGraph\")\n",
    "\n",
    "    # Create events\n",
    "    event_ids = {}\n",
    "    for activity in json_obj[\"DCRgraph\"][\"activities\"]:\n",
    "        role = activity[\"role\"]\n",
    "        description = activity[\"activity\"]\n",
    "        event_id = f\"Event_{uuid.uuid4().hex[:8]}\"  # Generate a unique event ID\n",
    "        event_ids[event_id] = activity  # Store the event ID with its activity for later use\n",
    "\n",
    "        event = ET.SubElement(dcr_graph, \"dcr:event\", {\n",
    "            \"id\": event_id,\n",
    "            \"role\": role,\n",
    "            \"description\": description,\n",
    "            \"included\": \"true\",\n",
    "            \"executed\": \"false\",\n",
    "            \"pending\": \"false\",\n",
    "            \"enabled\": \"false\"\n",
    "        })\n",
    "\n",
    "    # Create relations\n",
    "    relation_ids = []\n",
    "    for constraint in json_obj[\"DCRgraph\"][\"constraints\"]:\n",
    "        source_activity = constraint[\"source activity\"]\n",
    "        target_activity = constraint[\"target activity\"]\n",
    "        relation_id = f\"Relation_{uuid.uuid4().hex[:8]}\"  # Generate a unique relation ID\n",
    "\n",
    "        #check whether constraint type matches DCR Editor XML types\n",
    "        if constraint[\"constraint\"] == \"Condition\":\n",
    "            constraint_type = \"condition\"\n",
    "        elif constraint[\"constraint\"] == \"Response\":\n",
    "            constraint_type = \"response\"\n",
    "        elif constraint[\"constraint\"] == \"Exclude\":\n",
    "            constraint_type = \"exclude\"\n",
    "        elif constraint[\"constraint\"] == \"Include\":\n",
    "            constraint_type = \"include\"\n",
    "        elif constraint[\"constraint\"] == \"Milestone\":\n",
    "            constraint_type = \"milestone\"\n",
    "        else:\n",
    "            raise TypeError(\"Constraint Type was not identified correctly\")\n",
    "        \n",
    "        # Find the corresponding event IDs\n",
    "        source_event_id = next((eid for eid, act in event_ids.items() if act[\"activity\"] == source_activity), None)\n",
    "        target_event_id = next((eid for eid, act in event_ids.items() if act[\"activity\"] == target_activity), None)\n",
    "\n",
    "        if source_event_id and target_event_id:\n",
    "            # Create the dcr:relation with a unique ID\n",
    "            ET.SubElement(dcr_graph, \"dcr:relation\", {\n",
    "                \"id\": relation_id,\n",
    "                \"type\": constraint_type, \n",
    "                \"sourceRef\": source_event_id,\n",
    "                \"targetRef\": target_event_id\n",
    "            })\n",
    "            relation_ids.append(relation_id)  # Store the relation ID for later use\n",
    "\n",
    "    # Create dcrRootBoard element\n",
    "    root_board = ET.SubElement(definitions, \"dcrDi:dcrRootBoard\", id=\"RootBoard\")\n",
    "    plane = ET.SubElement(root_board, \"dcrDi:dcrPlane\", id=\"Plane\", boardElement=\"dcrGraph\")\n",
    "\n",
    "    # Create shapes for the diagram\n",
    "    for event_id in event_ids.keys():\n",
    "        shape = ET.SubElement(plane, \"dcrDi:dcrShape\", id=f\"{event_id}_di\", boardElement=event_id)\n",
    "        # Example bounds, you can adjust the coordinates as needed\n",
    "        ET.SubElement(shape, \"dc:Bounds\", x=\"640\", y=\"230\", width=\"130\", height=\"150\")\n",
    "\n",
    "    # Create dcrDi:relation elements with unique IDs\n",
    "    for relation_id in relation_ids:\n",
    "        # Create a corresponding dcrDi:relation\n",
    "        relation_di_id = f\"{relation_id}_di\"  # ID for dcrDi:relation\n",
    "        relation_di = ET.SubElement(plane, \"dcrDi:relation\", id=relation_di_id, boardElement=relation_id)\n",
    "        # Example waypoints, you can adjust the coordinates as needed\n",
    "        ET.SubElement(relation_di, \"dcrDi:waypoint\", x=\"705\", y=\"380\")\n",
    "        ET.SubElement(relation_di, \"dcrDi:waypoint\", x=\"705\", y=\"400\")\n",
    "        ET.SubElement(relation_di, \"dcrDi:waypoint\", x=\"620\", y=\"400\")\n",
    "        ET.SubElement(relation_di, \"dcrDi:waypoint\", x=\"620\", y=\"305\")\n",
    "        ET.SubElement(relation_di, \"dcrDi:waypoint\", x=\"640\", y=\"305\")\n",
    "\n",
    "    # Convert to string\n",
    "    xml_str = ET.tostring(definitions, encoding='UTF-8', xml_declaration=True).decode('UTF-8')\n",
    "    return xml_str\n",
    "\n"
   ]
  },
  {
   "cell_type": "markdown",
   "id": "74d4add6",
   "metadata": {},
   "source": [
    "## Combined Graph Generation"
   ]
  },
  {
   "cell_type": "code",
   "execution_count": null,
   "id": "eb9bb085",
   "metadata": {},
   "outputs": [],
   "source": [
    "current_run = 0\n",
    "generation_start_time = datetime.now()\n",
    "errors = 0\n",
    "role_times = []\n",
    "role_input_token = []\n",
    "role_output_token = []\n",
    "activity_times = []\n",
    "activity_input_token = []\n",
    "activity_output_token = []\n",
    "rule_times = []\n",
    "rule_input_token = []\n",
    "rule_output_token = []\n",
    "\n",
    "while True:\n",
    "    if current_run >= loop_limit:\n",
    "        # safety mechanism to ensure termination if an unexpected issue is not handled\n",
    "        # important to leave in when running everything automatically\n",
    "        raise ValueError(\"Exceeded maximumg number of runs. Generation of Graph failed.\")\n",
    "    try:\n",
    "        roles, role_time, role_input, role_output, activities, activity_time, activity_input, activity_output, rules, rule_time, rule_input, rule_output = runPromptPipeline()\n",
    "        role_times.append(role_time)\n",
    "        role_input_token.append(role_input)\n",
    "        role_output_token.append(role_output)\n",
    "        activity_times.append(activity_time)\n",
    "        activity_input_token.append(activity_input)\n",
    "        activity_output_token.append(activity_output)\n",
    "        rule_times.append(rule_time)\n",
    "        rule_input_token.append(rule_input)\n",
    "        rule_output_token.append(rule_output)\n",
    "        graphJSON = generateJSON(roles,activities,rules)\n",
    "        print(\"Parsing to JSON successful\")\n",
    "        xml = json_to_xml(graphJSON)\n",
    "        print(f\"XML Generation successful ({process_name},Pipeline_A1_{prompt_name})\")\n",
    "        print(\"xml:\", xml)\n",
    "        print(\"\\n\")\n",
    "        break\n",
    "    except Exception as e:\n",
    "        current_run += 1\n",
    "        errors += 1\n",
    "        print(f\"Graph Generation failed with error ({process_name},Pipeline_A1_{prompt_name})\")\n",
    "        print(e, flush=True)\n",
    "        runs_left = loop_limit - current_run\n",
    "        print(\"Iterations left: \" + str(runs_left))\n",
    "        print(\"\\n\")\n",
    "\n",
    "generation_finished_time = datetime.now() - generation_start_time\n",
    "generation_duration = generation_finished_time.total_seconds()"
   ]
  },
  {
   "cell_type": "markdown",
   "id": "716363d2",
   "metadata": {},
   "source": [
    "## Save Time to Results"
   ]
  },
  {
   "cell_type": "code",
   "execution_count": null,
   "id": "fdef1159",
   "metadata": {},
   "outputs": [],
   "source": [
    "new_times = f\"{process_name};{generation_duration};{role_times};{role_input_token};{role_output_token};{activity_times};{activity_input_token};{activity_output_token};{rule_times};{rule_input_token};{rule_output_token};{errors}\\n\"\n",
    "\n",
    "folder = Path('./6_Time_Analysis') / \"data\" / large_language_model / \"Pipeline_A1\"\n",
    "folder.mkdir(parents=True, exist_ok=True) \n",
    "\n",
    "file_name = f\"{prompt_name}.txt\"\n",
    "file_path = folder / file_name \n",
    "\n",
    "with open(file_path, 'a+') as file:\n",
    "    file.write(new_times)"
   ]
  },
  {
   "cell_type": "markdown",
   "id": "401aee1a",
   "metadata": {},
   "source": [
    "## Save XML to Results"
   ]
  },
  {
   "cell_type": "code",
   "execution_count": null,
   "id": "940312a2",
   "metadata": {},
   "outputs": [],
   "source": [
    "folder = Path(result_xml_path) / large_language_model / \"Pipeline_A1\" / prompt_name\n",
    "folder.mkdir(parents=True, exist_ok=True) \n",
    "\n",
    "file_name = f\"{process_name}_{large_language_model}_{prompt_name}_{datetime.now().date()}_{datetime.now().time()}.xml\"\n",
    "file_path = folder / file_name \n",
    "\n",
    "with open(file_path, 'w') as result_destination:\n",
    "    result_destination.write(xml)"
   ]
  }
 ],
 "metadata": {
  "kernelspec": {
   "display_name": "DICE",
   "language": "python",
   "name": "python3"
  },
  "language_info": {
   "codemirror_mode": {
    "name": "ipython",
    "version": 3
   },
   "file_extension": ".py",
   "mimetype": "text/x-python",
   "name": "python",
   "nbconvert_exporter": "python",
   "pygments_lexer": "ipython3",
   "version": "3.13.2"
  }
 },
 "nbformat": 4,
 "nbformat_minor": 5
}
